{
 "cells": [
  {
   "cell_type": "markdown",
   "metadata": {},
   "source": [
    "---\n",
    "# 課題5 - 機械学習\n",
    "\n",
    "本課題で使用するデータセットは[こちら](https://drive.google.com/drive/folders/1B_eW0ZXlnZC8SahPfgWB6bMQDNs-Xu-B)からダウンロードしてください。\n",
    "\n",
    "GPUを使いたい場合は本ファイルをGoogle Colaboratoryで読み込み使用してください。\n",
    "\n",
    "使用するデータセットの詳細リンクはそれぞれ下記の通りです。なお、どのデータセットも本課題用に一部加工しています。\n",
    "\n",
    "[mobile-price-classification](https://www.kaggle.com/iabhishekofficial/mobile-price-classification)\n",
    "\n",
    "[newyork-stock-exchange](https://www.kaggle.com/dgawlik/nyse)\n",
    "\n",
    "[newyork-city-taxi-fare-prediction](https://www.kaggle.com/c/new-york-city-taxi-fare-prediction/data)"
   ]
  },
  {
   "cell_type": "markdown",
   "metadata": {},
   "source": [
    "---\n",
    "\n",
    "課題1: データセット「mobile-price-classfication」は携帯電話の端末ごとの情報と価格ランク（price_range）が記録されている。\n",
    "\n",
    "このデータを元に、**価格ランク（price_range）**を予測するモデルを構築せよ。\n",
    "\n",
    "【データ】\n",
    "\n",
    "- train.csv\n",
    "    - 学習用のデータ\n",
    "    - 携帯電話、スマートフォン各機種のスペックと価格ランク（price_range）が記録されたデータ。価格ランクは0~3の4段階ある。\n",
    "    \n",
    "    \n",
    "- test.csv\n",
    "    - 精度検証用のデータ\n",
    "    - train.csvと同じカラム構成。test.csvに格納されている「price_range」を正とした予測結果を算出すること。\n",
    "\n",
    "\n",
    "【提出要件】\n",
    "\n",
    "以下の項目をJupyter Notebook上で出力した状態で提出すること\n",
    "\n",
    "- 予測結果と実際のランクによる混合行列\n",
    "- 予測において最も重要と考えられる変数Top5を列挙"
   ]
  },
  {
   "cell_type": "code",
   "execution_count": 3,
   "metadata": {},
   "outputs": [],
   "source": [
    "# 以下よりコードを記入してください  ##############################\n"
   ]
  },
  {
   "cell_type": "markdown",
   "metadata": {},
   "source": [
    "---\n",
    "\n",
    "課題2: データセット「new-york-stock-exchange」は2010~2016年のアメリカの株価推移を記録したものである。\n",
    "\n",
    "このデータを元に、**アップル（Apple Inc.）**の**「翌日の高値（high）」**と**「一週間後の安値（low）」**を予測するモデルを構築せよ。\n",
    "\n",
    "例えば、1週間後の予測の場合、2016/1/1の株価を予測値は2015/12/24までのデータをインプットとすること。\n",
    "\n",
    "なお、予測対象期間は2016/1/1 ~ 2016/12/30とする。\n",
    "\n",
    "【データ】\n",
    "\n",
    "- fundamentals.csv\n",
    "    - Annual SEC 10K fillingから取得した変数。財務状況に関する情報を企業（Ticker symbol）ごとに集計\n",
    "    \n",
    "    \n",
    "- securities.csv\n",
    "    - 企業（Ticker symbol）ごとの業種業態をまとめたデータ。\n",
    "    \n",
    "    \n",
    "- prices-split-adjusted.csv\n",
    "    - 企業ごとに集計された日毎の株価データ\n",
    "    - 予測対象である安値は「low」に格納されている\n",
    "\n",
    "【提出要件】\n",
    "\n",
    "以下の項目をJupyter Notebook上で出力した状態で提出すること\n",
    "\n",
    "- 予測結果と実際のデータを比較できる株価のプロット図\n",
    "    - 可視化する期間は予測対象である2016/1/1 ~ 2016/12/30のみで良い\n",
    "    \n",
    "    \n",
    "- 予測精度を算出せよ（RMSE）\n",
    "\n",
    "\n",
    "※余力があれば\n",
    "\n",
    "自分が気になる企業に対して同様に予測モデルを構築してみよう。予測結果と比較できるように可視化できたら尚良い。"
   ]
  },
  {
   "cell_type": "code",
   "execution_count": null,
   "metadata": {},
   "outputs": [],
   "source": [
    "# 以下よりコードを記入してください  ##############################\n"
   ]
  },
  {
   "cell_type": "markdown",
   "metadata": {},
   "source": [
    "---\n",
    "\n",
    "課題3: データセット「new-york-city-taxi-fare-prediction」はニューヨーク州のタクシー乗車履歴を記録したものである。\n",
    "\n",
    "このデータを元に、**タクシーの運賃価格（fare_amount）**を予測するモデルを構築せよ。\n",
    "\n",
    "【データ】\n",
    "\n",
    "- train.csv\n",
    "    - 学習用のデータ\n",
    "    - 予測対象のカラムである「fare_amount」と客が乗車した時間、緯度経度などの情報が記録されている。\n",
    "    \n",
    "    \n",
    "- test.csv\n",
    "    - 精度検証用のデータ\n",
    "    - train.csvと同じカラム構成。test.csvに格納されている「fare_amount」を正とした予測結果を算出すること。\n",
    "    \n",
    "    \n",
    "【提出要件】\n",
    "\n",
    "以下の項目をJupyter Notebook上で出力した状態で提出すること\n",
    "\n",
    "- データ前処理の過程（どういう処理をしたのかをコメント交えながら記載すること）\n",
    "    \n",
    "- 予測精度を算出せよ（RMSE）"
   ]
  },
  {
   "cell_type": "code",
   "execution_count": null,
   "metadata": {},
   "outputs": [],
   "source": [
    "# 以下よりコードを記入してください  ##############################\n"
   ]
  }
 ],
 "metadata": {
  "kernelspec": {
   "display_name": "Python 3",
   "language": "python",
   "name": "python3"
  },
  "language_info": {
   "codemirror_mode": {
    "name": "ipython",
    "version": 3
   },
   "file_extension": ".py",
   "mimetype": "text/x-python",
   "name": "python",
   "nbconvert_exporter": "python",
   "pygments_lexer": "ipython3",
   "version": "3.8.6"
  }
 },
 "nbformat": 4,
 "nbformat_minor": 4
}

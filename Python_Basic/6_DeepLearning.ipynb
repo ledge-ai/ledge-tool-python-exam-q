{
 "cells": [
  {
   "cell_type": "markdown",
   "metadata": {},
   "source": [
    "---\n",
    "# 課題6 - ディープラーニング\n",
    "\n",
    "本課題で使用するデータセットは[こちら](https://drive.google.com/drive/folders/1PqT4TTZc4TncYyr4jmjY3sKjlTbONVjX)からダウンロードしてください。\n",
    "\n",
    "GPUを使いたい場合は本ファイルをGoogle Colaboratoryで読み込み使用してください。\n",
    "\n",
    "使用するデータセットの詳細リンクはそれぞれ下記の通りです。\n",
    "\n",
    "[dogs-vs-cats-redux-kernels-edition](https://www.kaggle.com/c/dogs-vs-cats-redux-kernels-edition)\n",
    "\n",
    "[intel-image-classification-dataset](https://www.kaggle.com/puneet6060/intel-image-classification)"
   ]
  },
  {
   "cell_type": "markdown",
   "metadata": {
    "pycharm": {
     "name": "#%% md\n"
    }
   },
   "source": [
    "---\n",
    "\n",
    "課題1: データセット「dogs-vs-cats-redux-kernels-edition」を用いて画像から犬猫を判別するモデル（2値分類タスク）を作成せよ\n",
    "\n",
    "以下の項目をJupyter Notebook上で出力した状態で提出すること\n",
    "\n",
    "- 前処理を実施した場合、その処理を加えた画像（数枚程度）\n",
    "- 学習曲線（横軸をEpoch、縦軸をLoss）\n",
    "- ハイパーパラメータごとのLossを記録し、最も高い性能を出すパラメータを出力\n",
    "- 予測結果（インプットした画像と予測ラベルを併記する）\n",
    "\n"
   ]
  },
  {
   "cell_type": "code",
   "execution_count": null,
   "outputs": [],
   "source": [
    "# 以下よりコードを記入してください  ##############################\n"
   ],
   "metadata": {
    "collapsed": false,
    "pycharm": {
     "name": "#%%\n"
    }
   }
  },
  {
   "cell_type": "markdown",
   "source": [
    "\n",
    "---\n",
    "\n",
    "課題2: データセット「intel-image-classification-dataset」を用いて画像から建物や森などの風景を判別するモデル（マルチラベル分類）を作成せよ\n",
    "\n",
    "以下の項目をJupyter Notebook上で出力した状態で提出すること\n",
    "\n",
    "- 前処理を実施した場合、その処理を加えた画像（数枚程度）\n",
    "- 学習曲線（横軸をEpoch、縦軸をLoss）\n",
    "- ハイパーパラメータごとのLossを記録し、最も高い性能を出すパラメータを出力\n",
    "- 予測結果（インプットした画像と予測ラベルを併記する）"
   ],
   "metadata": {
    "collapsed": false
   }
  },
  {
   "cell_type": "code",
   "execution_count": null,
   "outputs": [],
   "source": [
    "# 以下よりコードを記入してください  ##############################\n"
   ],
   "metadata": {
    "collapsed": false,
    "pycharm": {
     "name": "#%%\n"
    }
   }
  }
 ],
 "metadata": {
  "kernelspec": {
   "display_name": "Python 3",
   "language": "python",
   "name": "python3"
  },
  "language_info": {
   "codemirror_mode": {
    "name": "ipython",
    "version": 3
   },
   "file_extension": ".py",
   "mimetype": "text/x-python",
   "name": "python",
   "nbconvert_exporter": "python",
   "pygments_lexer": "ipython3",
   "version": "3.8.3"
  }
 },
 "nbformat": 4,
 "nbformat_minor": 4
}